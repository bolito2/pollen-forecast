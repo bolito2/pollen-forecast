{
 "cells": [
  {
   "cell_type": "code",
   "execution_count": 1,
   "metadata": {},
   "outputs": [],
   "source": [
    "import json\n",
    "import random\n",
    "import string\n",
    "\n",
    "import tornado.httpclient\n",
    "import tornado.gen\n",
    "import tornado.options\n",
    "import tornado.web\n",
    "import tornado.websocket\n",
    "\n",
    "import numpy as np\n",
    "\n",
    "import h5py"
   ]
  },
  {
   "cell_type": "code",
   "execution_count": 2,
   "metadata": {},
   "outputs": [],
   "source": [
    "def parse_payload(data):\n",
    "    try:\n",
    "        body = None\n",
    "        frame = json.loads(data)\n",
    "        if isinstance(frame, list) and len(frame) > 0:\n",
    "            frame = frame[0]\n",
    "            body = json.loads(frame.get('body', \"{}\"))\n",
    "\n",
    "        return frame, body\n",
    "\n",
    "    except Exception as ex:\n",
    "        print(ex)\n",
    "\n",
    "    return None, None"
   ]
  },
  {
   "cell_type": "code",
   "execution_count": 3,
   "metadata": {},
   "outputs": [],
   "source": [
    "@tornado.gen.coroutine\n",
    "def connect_and_read_websocket():\n",
    "\n",
    "    url = \"wss://www.polenes.com/sockjs/490/j6ieo28e/websocket\"\n",
    "    try:\n",
    "        print(\"connecting to: %s\", url)\n",
    "        w = yield tornado.websocket.websocket_connect(url, connect_timeout=5)\n",
    "        print(\"connected to %s, waiting for messages\", url)\n",
    "    except Exception as ex:\n",
    "        print(\"couldn't connect, err: %s\", ex)\n",
    "        return\n",
    "\n",
    "    f = h5py.File('pollen.h5', 'w');\n",
    "\n",
    "    day = np.zeros((1, 24), dtype=np.int32)\n",
    "    data = 'null'\n",
    "\n",
    "    while True:\n",
    "        payload = yield w.read_message()\n",
    "        if payload is None:\n",
    "            print(\"uh oh, we got disconnected\")\n",
    "            table.flush();\n",
    "            return\n",
    "\n",
    "        if payload[0] == \"o\":\n",
    "            msg = json.dumps(['{\"msg\":\"connect\", \"version\":\"1\", \"support\":[\"1\",\"pre2\",\"pre1\"]}'])\n",
    "            w.write_message(msg.encode('utf8'))\n",
    "        elif payload[0] == 'a':\n",
    "            frame = json.loads(payload[1:])\n",
    "            body = json.loads(frame[0])\n",
    "\n",
    "            if 'msg' in body:\n",
    "                if body['msg'] == 'connected':\n",
    "                    stringmsg = '{{\"msg\":\"sub\",\"id\":\"die7LBp7mEbzW3ffQ\",\"name\":\"polenes2015\",\"params\":[{{\"selector\":{{\"$and\":[{{\"fecha\":{{\"$gte\":19750101,\"$lte\":20201231}}}},{{\"idEstacion\":29}}]}},\"options\":{{\"sort\":{{\"fecha\":1}}}},\"jump\":1}}]}}'.format();\n",
    "                    print(stringmsg)\n",
    "                    msg = json.dumps([stringmsg])\n",
    "                    w.write_message(msg.encode('utf8'));\n",
    "                elif body['msg'] == 'ping':\n",
    "                    print('pong')\n",
    "                    msg = json.dumps(['{\"msg\": \"pong\"}'])\n",
    "                    w.write_message(msg.encode('utf8'));\n",
    "                elif body['msg'] == 'ready':\n",
    "                    print(data.shape)\n",
    "                    f.create_dataset('madrid_subiza', data=data)\n",
    "                    return\n",
    "                elif body['msg'] == 'added':\n",
    "                    day[0][0] = body['fields']['fecha'];\n",
    "\n",
    "                    for i in range(1, 23):\n",
    "                        if str(i) in body['fields']:\n",
    "                            day[0][i] = body['fields'][str(i)];\n",
    "                        else:\n",
    "                            day[0][i] = 0;\n",
    "\n",
    "                    if data == 'null':\n",
    "                        data = day\n",
    "                    else: \n",
    "                        data = np.append(data, day, axis=0);"
   ]
  },
  {
   "cell_type": "code",
   "execution_count": 4,
   "metadata": {},
   "outputs": [
    {
     "ename": "RuntimeError",
     "evalue": "This event loop is already running",
     "output_type": "error",
     "traceback": [
      "\u001b[0;31m---------------------------------------------------------------------------\u001b[0m",
      "\u001b[0;31mRuntimeError\u001b[0m                              Traceback (most recent call last)",
      "\u001b[0;32m<ipython-input-4-65a2e33ebf7c>\u001b[0m in \u001b[0;36m<module>\u001b[0;34m\u001b[0m\n\u001b[1;32m      1\u001b[0m \u001b[0;32mif\u001b[0m \u001b[0m__name__\u001b[0m \u001b[0;34m==\u001b[0m \u001b[0;34m'__main__'\u001b[0m\u001b[0;34m:\u001b[0m\u001b[0;34m\u001b[0m\u001b[0;34m\u001b[0m\u001b[0m\n\u001b[0;32m----> 2\u001b[0;31m     \u001b[0mtornado\u001b[0m\u001b[0;34m.\u001b[0m\u001b[0mioloop\u001b[0m\u001b[0;34m.\u001b[0m\u001b[0mIOLoop\u001b[0m\u001b[0;34m.\u001b[0m\u001b[0minstance\u001b[0m\u001b[0;34m(\u001b[0m\u001b[0;34m)\u001b[0m\u001b[0;34m.\u001b[0m\u001b[0mrun_sync\u001b[0m\u001b[0;34m(\u001b[0m\u001b[0mconnect_and_read_websocket\u001b[0m\u001b[0;34m)\u001b[0m\u001b[0;34m\u001b[0m\u001b[0;34m\u001b[0m\u001b[0m\n\u001b[0m",
      "\u001b[0;32m/usr/local/lib/python3.6/dist-packages/tornado/ioloop.py\u001b[0m in \u001b[0;36mrun_sync\u001b[0;34m(self, func, timeout)\u001b[0m\n\u001b[1;32m    524\u001b[0m \u001b[0;34m\u001b[0m\u001b[0m\n\u001b[1;32m    525\u001b[0m             \u001b[0mtimeout_handle\u001b[0m \u001b[0;34m=\u001b[0m \u001b[0mself\u001b[0m\u001b[0;34m.\u001b[0m\u001b[0madd_timeout\u001b[0m\u001b[0;34m(\u001b[0m\u001b[0mself\u001b[0m\u001b[0;34m.\u001b[0m\u001b[0mtime\u001b[0m\u001b[0;34m(\u001b[0m\u001b[0;34m)\u001b[0m \u001b[0;34m+\u001b[0m \u001b[0mtimeout\u001b[0m\u001b[0;34m,\u001b[0m \u001b[0mtimeout_callback\u001b[0m\u001b[0;34m)\u001b[0m\u001b[0;34m\u001b[0m\u001b[0;34m\u001b[0m\u001b[0m\n\u001b[0;32m--> 526\u001b[0;31m         \u001b[0mself\u001b[0m\u001b[0;34m.\u001b[0m\u001b[0mstart\u001b[0m\u001b[0;34m(\u001b[0m\u001b[0;34m)\u001b[0m\u001b[0;34m\u001b[0m\u001b[0;34m\u001b[0m\u001b[0m\n\u001b[0m\u001b[1;32m    527\u001b[0m         \u001b[0;32mif\u001b[0m \u001b[0mtimeout\u001b[0m \u001b[0;32mis\u001b[0m \u001b[0;32mnot\u001b[0m \u001b[0;32mNone\u001b[0m\u001b[0;34m:\u001b[0m\u001b[0;34m\u001b[0m\u001b[0;34m\u001b[0m\u001b[0m\n\u001b[1;32m    528\u001b[0m             \u001b[0mself\u001b[0m\u001b[0;34m.\u001b[0m\u001b[0mremove_timeout\u001b[0m\u001b[0;34m(\u001b[0m\u001b[0mtimeout_handle\u001b[0m\u001b[0;34m)\u001b[0m\u001b[0;34m\u001b[0m\u001b[0;34m\u001b[0m\u001b[0m\n",
      "\u001b[0;32m/usr/local/lib/python3.6/dist-packages/tornado/platform/asyncio.py\u001b[0m in \u001b[0;36mstart\u001b[0;34m(self)\u001b[0m\n\u001b[1;32m    147\u001b[0m             \u001b[0mself\u001b[0m\u001b[0;34m.\u001b[0m\u001b[0m_setup_logging\u001b[0m\u001b[0;34m(\u001b[0m\u001b[0;34m)\u001b[0m\u001b[0;34m\u001b[0m\u001b[0;34m\u001b[0m\u001b[0m\n\u001b[1;32m    148\u001b[0m             \u001b[0masyncio\u001b[0m\u001b[0;34m.\u001b[0m\u001b[0mset_event_loop\u001b[0m\u001b[0;34m(\u001b[0m\u001b[0mself\u001b[0m\u001b[0;34m.\u001b[0m\u001b[0masyncio_loop\u001b[0m\u001b[0;34m)\u001b[0m\u001b[0;34m\u001b[0m\u001b[0;34m\u001b[0m\u001b[0m\n\u001b[0;32m--> 149\u001b[0;31m             \u001b[0mself\u001b[0m\u001b[0;34m.\u001b[0m\u001b[0masyncio_loop\u001b[0m\u001b[0;34m.\u001b[0m\u001b[0mrun_forever\u001b[0m\u001b[0;34m(\u001b[0m\u001b[0;34m)\u001b[0m\u001b[0;34m\u001b[0m\u001b[0;34m\u001b[0m\u001b[0m\n\u001b[0m\u001b[1;32m    150\u001b[0m         \u001b[0;32mfinally\u001b[0m\u001b[0;34m:\u001b[0m\u001b[0;34m\u001b[0m\u001b[0;34m\u001b[0m\u001b[0m\n\u001b[1;32m    151\u001b[0m             \u001b[0masyncio\u001b[0m\u001b[0;34m.\u001b[0m\u001b[0mset_event_loop\u001b[0m\u001b[0;34m(\u001b[0m\u001b[0mold_loop\u001b[0m\u001b[0;34m)\u001b[0m\u001b[0;34m\u001b[0m\u001b[0;34m\u001b[0m\u001b[0m\n",
      "\u001b[0;32m/usr/lib/python3.6/asyncio/base_events.py\u001b[0m in \u001b[0;36mrun_forever\u001b[0;34m(self)\u001b[0m\n\u001b[1;32m    423\u001b[0m         \u001b[0mself\u001b[0m\u001b[0;34m.\u001b[0m\u001b[0m_check_closed\u001b[0m\u001b[0;34m(\u001b[0m\u001b[0;34m)\u001b[0m\u001b[0;34m\u001b[0m\u001b[0;34m\u001b[0m\u001b[0m\n\u001b[1;32m    424\u001b[0m         \u001b[0;32mif\u001b[0m \u001b[0mself\u001b[0m\u001b[0;34m.\u001b[0m\u001b[0mis_running\u001b[0m\u001b[0;34m(\u001b[0m\u001b[0;34m)\u001b[0m\u001b[0;34m:\u001b[0m\u001b[0;34m\u001b[0m\u001b[0;34m\u001b[0m\u001b[0m\n\u001b[0;32m--> 425\u001b[0;31m             \u001b[0;32mraise\u001b[0m \u001b[0mRuntimeError\u001b[0m\u001b[0;34m(\u001b[0m\u001b[0;34m'This event loop is already running'\u001b[0m\u001b[0;34m)\u001b[0m\u001b[0;34m\u001b[0m\u001b[0;34m\u001b[0m\u001b[0m\n\u001b[0m\u001b[1;32m    426\u001b[0m         \u001b[0;32mif\u001b[0m \u001b[0mevents\u001b[0m\u001b[0;34m.\u001b[0m\u001b[0m_get_running_loop\u001b[0m\u001b[0;34m(\u001b[0m\u001b[0;34m)\u001b[0m \u001b[0;32mis\u001b[0m \u001b[0;32mnot\u001b[0m \u001b[0;32mNone\u001b[0m\u001b[0;34m:\u001b[0m\u001b[0;34m\u001b[0m\u001b[0;34m\u001b[0m\u001b[0m\n\u001b[1;32m    427\u001b[0m             raise RuntimeError(\n",
      "\u001b[0;31mRuntimeError\u001b[0m: This event loop is already running"
     ]
    },
    {
     "name": "stdout",
     "output_type": "stream",
     "text": [
      "connecting to: %s wss://www.polenes.com/sockjs/490/j6ieo28e/websocket\n",
      "connected to %s, waiting for messages wss://www.polenes.com/sockjs/490/j6ieo28e/websocket\n",
      "{\"msg\":\"sub\",\"id\":\"die7LBp7mEbzW3ffQ\",\"name\":\"polenes2015\",\"params\":[{\"selector\":{\"$and\":[{\"fecha\":{\"$gte\":19750101,\"$lte\":20201231}},{\"idEstacion\":29}]},\"options\":{\"sort\":{\"fecha\":1}},\"jump\":1}]}\n"
     ]
    },
    {
     "name": "stderr",
     "output_type": "stream",
     "text": [
      "/usr/local/lib/python3.6/dist-packages/ipykernel_launcher.py:55: FutureWarning: elementwise comparison failed; returning scalar instead, but in the future will perform elementwise comparison\n"
     ]
    },
    {
     "name": "stdout",
     "output_type": "stream",
     "text": [
      "pong\n"
     ]
    }
   ],
   "source": [
    "tornado.ioloop.IOLoop.instance().run_sync(connect_and_read_websocket)"
   ]
  },
  {
   "cell_type": "markdown",
   "metadata": {},
   "source": [
    "Da un error pero funciona xd"
   ]
  }
 ],
 "metadata": {
  "kernelspec": {
   "display_name": "Python 3",
   "language": "python",
   "name": "python3"
  },
  "language_info": {
   "codemirror_mode": {
    "name": "ipython",
    "version": 3
   },
   "file_extension": ".py",
   "mimetype": "text/x-python",
   "name": "python",
   "nbconvert_exporter": "python",
   "pygments_lexer": "ipython3",
   "version": "3.6.9"
  }
 },
 "nbformat": 4,
 "nbformat_minor": 4
}
